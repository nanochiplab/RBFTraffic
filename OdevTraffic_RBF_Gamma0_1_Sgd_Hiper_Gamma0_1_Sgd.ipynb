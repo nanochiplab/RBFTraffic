{
  "cells": [
    {
      "cell_type": "markdown",
      "metadata": {
        "id": "view-in-github",
        "colab_type": "text"
      },
      "source": [
        "<a href=\"https://colab.research.google.com/github/nanochiplab/RBFTraffic/blob/main/OdevTraffic_RBF_Gamma0_1_Sgd_Hiper_Gamma0_1_Sgd.ipynb\" target=\"_parent\"><img src=\"https://colab.research.google.com/assets/colab-badge.svg\" alt=\"Open In Colab\"/></a>"
      ]
    },
    {
      "cell_type": "code",
      "execution_count": 2,
      "metadata": {
        "id": "9xFSTK1fq0vs"
      },
      "outputs": [],
      "source": [
        "import keras\n",
        "import numpy as np\n",
        "import pandas as pd\n",
        "import matplotlib.pyplot as plt\n",
        "import tensorflow as tf\n",
        "from PIL import Image\n",
        "\n",
        "import os\n",
        "from keras.utils import load_img, img_to_array\n",
        "from sklearn.model_selection import train_test_split\n",
        "from sklearn.metrics import confusion_matrix\n",
        "\n",
        "from tensorflow.keras.models import Sequential, load_model\n",
        "from tensorflow.keras.layers import Conv2D, MaxPooling2D, Dense, Flatten, Dropout,Activation,InputLayer,Layer\n",
        "\n",
        "import seaborn as sns\n",
        "from sklearn.metrics import confusion_matrix\n"
      ]
    },
    {
      "cell_type": "code",
      "execution_count": 3,
      "metadata": {
        "colab": {
          "base_uri": "https://localhost:8080/"
        },
        "id": "AaO7heLF2TtN",
        "outputId": "2d3b0964-901f-45d2-9f56-a1cd075a86cc"
      },
      "outputs": [
        {
          "output_type": "stream",
          "name": "stdout",
          "text": [
            "Cloning into 'German-Traffic-Sign-Recognition'...\n",
            "remote: Enumerating objects: 52027, done.\u001b[K\n",
            "remote: Total 52027 (delta 0), reused 0 (delta 0), pack-reused 52027 (from 1)\u001b[K\n",
            "Receiving objects: 100% (52027/52027), 300.65 MiB | 33.19 MiB/s, done.\n",
            "Resolving deltas: 100% (44/44), done.\n",
            "Updating files: 100% (101736/101736), done.\n"
          ]
        }
      ],
      "source": [
        "#!git clone https://github.com/sonu275981/GTSRB---German-Traffic-Sign-Recognition\n",
        "#cur_path= \"GTSRB---German-Traffic-Sign-Recognition/gtsrb-german-traffic-sign/Train/\"\n",
        "!git clone https://github.com/MohamedNennouche/German-Traffic-Sign-Recognition\n",
        "cur_path= \"German-Traffic-Sign-Recognition/Train/\"\n"
      ]
    },
    {
      "cell_type": "code",
      "execution_count": 4,
      "metadata": {
        "colab": {
          "base_uri": "https://localhost:8080/"
        },
        "id": "g8iWdEuzzyER",
        "outputId": "8fb6d17c-4913-4652-8fcf-afc647ed871e"
      },
      "outputs": [
        {
          "output_type": "stream",
          "name": "stdout",
          "text": [
            "\n",
            "Görüntüler Yükleniyor...\n",
            "************************........:\n",
            "\n",
            "Toplam yüklenen görüntü sayısı: 39209\n",
            "************************........:\n"
          ]
        }
      ],
      "source": [
        "#from google.colab import drive\n",
        "#drive.mount('/content/drive')\n",
        "\n",
        "#cur_path = \"/content/drive/MyDrive/Mlp/Train\"\n",
        "\n",
        "\n",
        "data = []\n",
        "labels = []\n",
        "classes = 43  # Toplam sınıf sayısı\n",
        "\n",
        "# Veri listeleri\n",
        "X = []\n",
        "y = []\n",
        "\n",
        "print(\"\")\n",
        "print(\"Görüntüler Yükleniyor...\")\n",
        "print(\"************************........:\")\n",
        "print(\"\")\n",
        "\n",
        "# Görüntüleri yükleme\n",
        "\n",
        "# Görüntüleri yükleme\n",
        "for i in range(classes):\n",
        "    path = os.path.join(cur_path, str(i))\n",
        "\n",
        "\n",
        "    # Özyinelemeli olarak tüm dosyaları gez\n",
        "    for root, dirs, files in os.walk(path):\n",
        "        for file in files:\n",
        "            try:\n",
        "                image_path = os.path.join(root, file)\n",
        "\n",
        "                # Görüntü dosyasını yükle ve işle\n",
        "                image = Image.open(image_path)\n",
        "                image = image.resize((30, 30))\n",
        "                image = np.array(image)\n",
        "\n",
        "                # Veri ve etiketleri ekle\n",
        "                #data.append([image, i])\n",
        "                data.append(image)\n",
        "                labels.append(i)  # Etiketleri ayrı olarak ekleyin\n",
        "            except Exception as e:\n",
        "                print(f\"Hata: Görüntü yüklenemedi. Dosya: {image_path}, Hata: {e}\")\n",
        "\n",
        "print(f\"Toplam yüklenen görüntü sayısı: {len(data)}\")\n",
        "print(\"************************........:\")\n",
        "\n",
        "#x = []\n",
        "#y = []\n",
        "\"\"\"\n",
        "X = []\n",
        "y = []\n",
        "\n",
        "for features,label in data:\n",
        "    X.append(features)\n",
        "    y.append(label)\n",
        "\"\"\"\n",
        "#Converting lists into numpy arrays\n",
        "X = np.array(data)\n",
        "y = np.array(labels)"
      ]
    },
    {
      "cell_type": "code",
      "execution_count": 5,
      "metadata": {
        "colab": {
          "base_uri": "https://localhost:8080/"
        },
        "id": "ley08T6R4aGT",
        "outputId": "9d271b08-f23c-4ac0-ce08-540e1d0cb4c2"
      },
      "outputs": [
        {
          "output_type": "stream",
          "name": "stdout",
          "text": [
            "Collecting scikeras\n",
            "  Downloading scikeras-0.13.0-py3-none-any.whl.metadata (3.1 kB)\n",
            "Requirement already satisfied: keras>=3.2.0 in /usr/local/lib/python3.10/dist-packages (from scikeras) (3.5.0)\n",
            "Requirement already satisfied: scikit-learn>=1.4.2 in /usr/local/lib/python3.10/dist-packages (from scikeras) (1.5.2)\n",
            "Requirement already satisfied: absl-py in /usr/local/lib/python3.10/dist-packages (from keras>=3.2.0->scikeras) (1.4.0)\n",
            "Requirement already satisfied: numpy in /usr/local/lib/python3.10/dist-packages (from keras>=3.2.0->scikeras) (1.26.4)\n",
            "Requirement already satisfied: rich in /usr/local/lib/python3.10/dist-packages (from keras>=3.2.0->scikeras) (13.9.4)\n",
            "Requirement already satisfied: namex in /usr/local/lib/python3.10/dist-packages (from keras>=3.2.0->scikeras) (0.0.8)\n",
            "Requirement already satisfied: h5py in /usr/local/lib/python3.10/dist-packages (from keras>=3.2.0->scikeras) (3.12.1)\n",
            "Requirement already satisfied: optree in /usr/local/lib/python3.10/dist-packages (from keras>=3.2.0->scikeras) (0.13.1)\n",
            "Requirement already satisfied: ml-dtypes in /usr/local/lib/python3.10/dist-packages (from keras>=3.2.0->scikeras) (0.4.1)\n",
            "Requirement already satisfied: packaging in /usr/local/lib/python3.10/dist-packages (from keras>=3.2.0->scikeras) (24.2)\n",
            "Requirement already satisfied: scipy>=1.6.0 in /usr/local/lib/python3.10/dist-packages (from scikit-learn>=1.4.2->scikeras) (1.13.1)\n",
            "Requirement already satisfied: joblib>=1.2.0 in /usr/local/lib/python3.10/dist-packages (from scikit-learn>=1.4.2->scikeras) (1.4.2)\n",
            "Requirement already satisfied: threadpoolctl>=3.1.0 in /usr/local/lib/python3.10/dist-packages (from scikit-learn>=1.4.2->scikeras) (3.5.0)\n",
            "Requirement already satisfied: typing-extensions>=4.5.0 in /usr/local/lib/python3.10/dist-packages (from optree->keras>=3.2.0->scikeras) (4.12.2)\n",
            "Requirement already satisfied: markdown-it-py>=2.2.0 in /usr/local/lib/python3.10/dist-packages (from rich->keras>=3.2.0->scikeras) (3.0.0)\n",
            "Requirement already satisfied: pygments<3.0.0,>=2.13.0 in /usr/local/lib/python3.10/dist-packages (from rich->keras>=3.2.0->scikeras) (2.18.0)\n",
            "Requirement already satisfied: mdurl~=0.1 in /usr/local/lib/python3.10/dist-packages (from markdown-it-py>=2.2.0->rich->keras>=3.2.0->scikeras) (0.1.2)\n",
            "Downloading scikeras-0.13.0-py3-none-any.whl (26 kB)\n",
            "Installing collected packages: scikeras\n",
            "Successfully installed scikeras-0.13.0\n"
          ]
        }
      ],
      "source": [
        "!pip install scikeras"
      ]
    },
    {
      "cell_type": "code",
      "execution_count": 6,
      "metadata": {
        "id": "IIJJOyj7bbAL",
        "colab": {
          "base_uri": "https://localhost:8080/"
        },
        "outputId": "332ce655-fb2a-4bb3-bf64-fb936966293e"
      },
      "outputs": [
        {
          "output_type": "stream",
          "name": "stdout",
          "text": [
            "Epoch 1/10\n",
            "\u001b[1m429/429\u001b[0m \u001b[32m━━━━━━━━━━━━━━━━━━━━\u001b[0m\u001b[37m\u001b[0m \u001b[1m105s\u001b[0m 242ms/step - accuracy: 0.0517 - loss: 3.7482 - val_accuracy: 0.0630 - val_loss: 3.7095\n",
            "Epoch 2/10\n",
            "\u001b[1m429/429\u001b[0m \u001b[32m━━━━━━━━━━━━━━━━━━━━\u001b[0m\u001b[37m\u001b[0m \u001b[1m131s\u001b[0m 218ms/step - accuracy: 0.0632 - loss: 3.6984 - val_accuracy: 0.0684 - val_loss: 3.6660\n",
            "Epoch 3/10\n",
            "\u001b[1m429/429\u001b[0m \u001b[32m━━━━━━━━━━━━━━━━━━━━\u001b[0m\u001b[37m\u001b[0m \u001b[1m143s\u001b[0m 220ms/step - accuracy: 0.0657 - loss: 3.6586 - val_accuracy: 0.0712 - val_loss: 3.6307\n",
            "Epoch 4/10\n",
            "\u001b[1m429/429\u001b[0m \u001b[32m━━━━━━━━━━━━━━━━━━━━\u001b[0m\u001b[37m\u001b[0m \u001b[1m157s\u001b[0m 255ms/step - accuracy: 0.0698 - loss: 3.6213 - val_accuracy: 0.0706 - val_loss: 3.6024\n",
            "Epoch 5/10\n",
            "\u001b[1m429/429\u001b[0m \u001b[32m━━━━━━━━━━━━━━━━━━━━\u001b[0m\u001b[37m\u001b[0m \u001b[1m100s\u001b[0m 234ms/step - accuracy: 0.0672 - loss: 3.5960 - val_accuracy: 0.0705 - val_loss: 3.5795\n",
            "Epoch 6/10\n",
            "\u001b[1m429/429\u001b[0m \u001b[32m━━━━━━━━━━━━━━━━━━━━\u001b[0m\u001b[37m\u001b[0m \u001b[1m98s\u001b[0m 228ms/step - accuracy: 0.0697 - loss: 3.5743 - val_accuracy: 0.0705 - val_loss: 3.5611\n",
            "Epoch 7/10\n",
            "\u001b[1m429/429\u001b[0m \u001b[32m━━━━━━━━━━━━━━━━━━━━\u001b[0m\u001b[37m\u001b[0m \u001b[1m101s\u001b[0m 236ms/step - accuracy: 0.0709 - loss: 3.5571 - val_accuracy: 0.0706 - val_loss: 3.5462\n",
            "Epoch 8/10\n",
            "\u001b[1m429/429\u001b[0m \u001b[32m━━━━━━━━━━━━━━━━━━━━\u001b[0m\u001b[37m\u001b[0m \u001b[1m102s\u001b[0m 237ms/step - accuracy: 0.0670 - loss: 3.5445 - val_accuracy: 0.0706 - val_loss: 3.5341\n",
            "Epoch 9/10\n",
            "\u001b[1m429/429\u001b[0m \u001b[32m━━━━━━━━━━━━━━━━━━━━\u001b[0m\u001b[37m\u001b[0m \u001b[1m151s\u001b[0m 258ms/step - accuracy: 0.0703 - loss: 3.5340 - val_accuracy: 0.0706 - val_loss: 3.5242\n",
            "Epoch 10/10\n",
            "\u001b[1m429/429\u001b[0m \u001b[32m━━━━━━━━━━━━━━━━━━━━\u001b[0m\u001b[37m\u001b[0m \u001b[1m101s\u001b[0m 236ms/step - accuracy: 0.0659 - loss: 3.5284 - val_accuracy: 0.0705 - val_loss: 3.5160\n",
            "\u001b[1m368/368\u001b[0m \u001b[32m━━━━━━━━━━━━━━━━━━━━\u001b[0m\u001b[37m\u001b[0m \u001b[1m14s\u001b[0m 37ms/step - accuracy: 0.0669 - loss: 3.5129\n",
            "Test doğruluğu: 0.07\n"
          ]
        }
      ],
      "source": [
        "from sklearn.model_selection import GridSearchCV, RandomizedSearchCV\n",
        "from sklearn.preprocessing import StandardScaler\n",
        "#from tensorflow.keras.wrappers.scikit_learn import KerasClassifier\n",
        "from scikeras.wrappers import KerasClassifier\n",
        "from tensorflow.keras.optimizers import Adam\n",
        "#from tensorflow.keras.layers import Layer\n",
        "from tensorflow.keras import backend as K\n",
        "from tensorflow.keras.utils import to_categorical\n",
        "\n",
        "import numpy as np\n",
        "import tensorflow as tf\n",
        "from tensorflow.keras.models import Sequential\n",
        "from tensorflow.keras.layers import Dense, Input, Layer, Flatten\n",
        "from sklearn.model_selection import train_test_split\n",
        "from tensorflow.keras.utils import to_categorical\n",
        "\n",
        "# Özel RBF katmanı tanımı\n",
        "class RBFLayer(Layer):\n",
        "    def __init__(self, num_units, gamma, **kwargs):\n",
        "        super(RBFLayer, self).__init__(**kwargs)\n",
        "        self.num_units = num_units\n",
        "        self.gamma = gamma\n",
        "\n",
        "    def build(self, input_shape):\n",
        "        self.centers = self.add_weight(name='centers',\n",
        "                                       shape=(self.num_units, input_shape[-1]),\n",
        "                                       initializer='random_normal',\n",
        "                                       trainable=True)\n",
        "        self.built = True\n",
        "\n",
        "    def call(self, inputs):\n",
        "        # RBF fonksiyonu: exp(-gamma * ||inputs - centers||^2)\n",
        "        diff = tf.expand_dims(inputs, axis=1) - self.centers\n",
        "        sq_dist = tf.reduce_sum(tf.square(diff), axis=-1)\n",
        "        return tf.exp(-self.gamma * sq_dist)\n",
        "\n",
        "# Veriyi normalize etme ve sınıflara ayırma\n",
        "X = X / 255.0  # Piksel değerlerini 0-1 arasında normalize et\n",
        "y = to_categorical(labels, num_classes=len(np.unique(labels)))  # Etiketleri one-hot encode et\n",
        "\n",
        "# Eğitim ve test setlerini oluştur\n",
        "X_train, X_test, y_train, y_test = train_test_split(X, y, test_size=0.3, random_state=42)\n",
        "\n",
        "# Modeli oluşturma\n",
        "model = Sequential([\n",
        "    Input(shape=(30, 30, 3)),   # Görüntü boyutları (30x30x3)\n",
        "    Flatten(),                  # Görüntüyü düzleştir\n",
        "    RBFLayer(num_units=100, gamma=0.1),  # RBF katmanı\n",
        "    Dense(len(y[0]), activation='softmax')  # Çıktı katmanı (sınıf sayısı kadar)\n",
        "])\n",
        "\n",
        "# Modeli derleme\n",
        "model.compile(optimizer='sgd', loss='categorical_crossentropy', metrics=['accuracy'])\n",
        "\n",
        "# Modeli eğitme\n",
        "history = model.fit(X_train, y_train, validation_data=(X_test, y_test), epochs=10, batch_size=64)\n",
        "\n",
        "# Test doğruluğunu değerlendirme\n",
        "test_loss, test_acc = model.evaluate(X_test, y_test)\n",
        "print(f\"Test doğruluğu: {test_acc:.2f}\")\n",
        "\n"
      ]
    },
    {
      "cell_type": "code",
      "execution_count": 8,
      "metadata": {
        "colab": {
          "base_uri": "https://localhost:8080/"
        },
        "id": "82Su2C4uLB3d",
        "outputId": "34d8a1ab-6e55-4e66-e0a0-36b4b49bb963"
      },
      "outputs": [
        {
          "output_type": "stream",
          "name": "stdout",
          "text": [
            "Fitting 3 folds for each of 2 candidates, totalling 6 fits\n"
          ]
        },
        {
          "output_type": "stream",
          "name": "stderr",
          "text": [
            "/usr/local/lib/python3.10/dist-packages/sklearn/model_selection/_search.py:320: UserWarning: The total space of parameters 2 is smaller than n_iter=5. Running 2 iterations. For exhaustive searches, use GridSearchCV.\n",
            "  warnings.warn(\n"
          ]
        },
        {
          "output_type": "stream",
          "name": "stdout",
          "text": [
            "En iyi parametreler: {'model__optimizer': 'sgd', 'model__num_units': 50, 'model__gamma': 0.1, 'epochs': 10, 'batch_size': 64}\n",
            "En iyi doğruluk: 0.06594778147697429\n",
            "\u001b[1m368/368\u001b[0m \u001b[32m━━━━━━━━━━━━━━━━━━━━\u001b[0m\u001b[37m\u001b[0m \u001b[1m4s\u001b[0m 11ms/step - accuracy: 0.0619 - loss: 3.5187\n",
            "Test doğruluğu (optimized): 0.06\n"
          ]
        }
      ],
      "source": [
        "def create_model(num_units=100, gamma=0.1, optimizer='adam'):\n",
        "    model = Sequential([\n",
        "        Input(shape=(30, 30, 3)),   # Görüntü boyutları (30x30x3)\n",
        "        Flatten(),                  # Görüntüyü düzleştir\n",
        "        RBFLayer(num_units=num_units, gamma=gamma),  # RBF katmanı\n",
        "        Dense(len(y_train[0]), activation='softmax')  # Çıktı katmanı (sınıf sayısı kadar)\n",
        "    ])\n",
        "    model.compile(optimizer=optimizer, loss='categorical_crossentropy', metrics=['accuracy'])\n",
        "    return model\n",
        "\n",
        "#Modeli bir KerasClassifier içine sarmalayarak, Scikit-learn’ün arama metodlarıyla uyumlu hale getiriyoruz.\n",
        "keras_model = KerasClassifier(model=create_model, verbose=0)\n",
        "\n",
        "#Hiperparametre Alanı ve RandomizedSearchCV\n",
        "#Hiperparametreler için arama alanını belirliyoruz. Burada num_units, gamma, optimizer, batch_size, ve epochs\n",
        "#gibi parametrelerin aralığını belirtebiliriz.\n",
        "\n",
        "# Hiperparametre arama alanı\n",
        "# Hiperparametre arama alanı\n",
        "param_distributions = {\n",
        "    'model__num_units': [50],            # RBF katmanı birim sayısı\n",
        "    'model__gamma': [0.1],           # RBF gamma parametresi\n",
        "    'model__optimizer': ['sgd'], # Farklı optimizasyon algoritmaları\n",
        "    'batch_size': [64],            # Batch size\n",
        "    'epochs': [10, 10]\n",
        "}\n",
        "\"\"\"\n",
        "param_distributions = {\n",
        "    'model__num_units': [50, 100, 150],            # RBF katmanı birim sayısı\n",
        "    'model__gamma': [0.01, 0.1, 1, 10],           # RBF gamma parametresi\n",
        "    'model__optimizer': ['adam', 'sgd', 'rmsprop'], # Farklı optimizasyon algoritmaları\n",
        "    'batch_size': [32, 64, 128],            # Batch size\n",
        "    'epochs': [10, 20]                      # Eğitim döngü sayısı\n",
        "}\n",
        "\"\"\"\n",
        "#******************************************\n",
        "# RandomizedSearchCV yapılandırma\n",
        "random_search = RandomizedSearchCV(\n",
        "    estimator=keras_model,\n",
        "    param_distributions=param_distributions,\n",
        "    n_iter=5,  # Arama yapılacak kombinasyon sayısı\n",
        "    cv=3,       # 3 katlı çapraz doğrulama\n",
        "    verbose=2,\n",
        "    n_jobs=-1   # Paralel çalıştırma (tüm çekirdekler)\n",
        ")\n",
        "#Modeli Eğitme ve En İyi Sonuçları Bulma\n",
        "#Arama işlemini başlatıyoruz ve en iyi parametre kombinasyonunu buluyoruz.\n",
        "random_search.fit(X_train, y_train)\n",
        "\n",
        "# En iyi parametreleri ve doğruluğu görüntüleme\n",
        "print(\"En iyi parametreler:\", random_search.best_params_)\n",
        "print(\"En iyi doğruluk:\", random_search.best_score_)\n",
        "\n",
        "#Seçilen Parametrelerle Modeli Test Etme\n",
        "#En iyi parametrelerle oluşturulan modeli test etmek için:\n",
        "\n",
        "best_model = random_search.best_estimator_\n",
        "test_loss, test_acc = best_model.model_.evaluate(X_test, y_test)\n",
        "print(f\"Test doğruluğu (optimized): {test_acc:.2f}\")\n"
      ]
    },
    {
      "cell_type": "code",
      "execution_count": null,
      "metadata": {
        "id": "tlOR2ku3HB7m",
        "colab": {
          "base_uri": "https://localhost:8080/"
        },
        "outputId": "6b5c0677-5625-4b73-d925-1589bae15ff7"
      },
      "outputs": [
        {
          "output_type": "stream",
          "name": "stdout",
          "text": [
            "Fitting 3 folds for each of 9 candidates, totalling 27 fits\n",
            "\u001b[1m572/572\u001b[0m \u001b[32m━━━━━━━━━━━━━━━━━━━━\u001b[0m\u001b[37m\u001b[0m \u001b[1m16s\u001b[0m 27ms/step - accuracy: 0.0704 - loss: 3.6683\n",
            "\u001b[1m286/286\u001b[0m \u001b[32m━━━━━━━━━━━━━━━━━━━━\u001b[0m\u001b[37m\u001b[0m \u001b[1m3s\u001b[0m 9ms/step\n",
            "[CV] END ..............model__gamma=0.1, model__num_units=50; total time=  20.4s\n",
            "\u001b[1m572/572\u001b[0m \u001b[32m━━━━━━━━━━━━━━━━━━━━\u001b[0m\u001b[37m\u001b[0m \u001b[1m16s\u001b[0m 27ms/step - accuracy: 0.0776 - loss: 3.6585\n",
            "\u001b[1m286/286\u001b[0m \u001b[32m━━━━━━━━━━━━━━━━━━━━\u001b[0m\u001b[37m\u001b[0m \u001b[1m2s\u001b[0m 8ms/step\n",
            "[CV] END ..............model__gamma=0.1, model__num_units=50; total time=  25.2s\n",
            "\u001b[1m572/572\u001b[0m \u001b[32m━━━━━━━━━━━━━━━━━━━━\u001b[0m\u001b[37m\u001b[0m \u001b[1m19s\u001b[0m 32ms/step - accuracy: 0.0716 - loss: 3.6603\n",
            "\u001b[1m286/286\u001b[0m \u001b[32m━━━━━━━━━━━━━━━━━━━━\u001b[0m\u001b[37m\u001b[0m \u001b[1m3s\u001b[0m 10ms/step\n",
            "[CV] END ..............model__gamma=0.1, model__num_units=50; total time=  23.5s\n",
            "\u001b[1m572/572\u001b[0m \u001b[32m━━━━━━━━━━━━━━━━━━━━\u001b[0m\u001b[37m\u001b[0m \u001b[1m60s\u001b[0m 103ms/step - accuracy: 0.0710 - loss: 3.6588\n",
            "\u001b[1m286/286\u001b[0m \u001b[32m━━━━━━━━━━━━━━━━━━━━\u001b[0m\u001b[37m\u001b[0m \u001b[1m11s\u001b[0m 37ms/step\n",
            "[CV] END .............model__gamma=0.1, model__num_units=100; total time= 1.6min\n",
            "\u001b[1m572/572\u001b[0m \u001b[32m━━━━━━━━━━━━━━━━━━━━\u001b[0m\u001b[37m\u001b[0m \u001b[1m61s\u001b[0m 106ms/step - accuracy: 0.0715 - loss: 3.6559\n",
            "\u001b[1m286/286\u001b[0m \u001b[32m━━━━━━━━━━━━━━━━━━━━\u001b[0m\u001b[37m\u001b[0m \u001b[1m9s\u001b[0m 30ms/step\n",
            "[CV] END .............model__gamma=0.1, model__num_units=100; total time= 1.2min\n",
            "\u001b[1m572/572\u001b[0m \u001b[32m━━━━━━━━━━━━━━━━━━━━\u001b[0m\u001b[37m\u001b[0m \u001b[1m64s\u001b[0m 110ms/step - accuracy: 0.0708 - loss: 3.6521\n",
            "\u001b[1m286/286\u001b[0m \u001b[32m━━━━━━━━━━━━━━━━━━━━\u001b[0m\u001b[37m\u001b[0m \u001b[1m9s\u001b[0m 30ms/step\n",
            "[CV] END .............model__gamma=0.1, model__num_units=100; total time= 1.2min\n",
            "\u001b[1m572/572\u001b[0m \u001b[32m━━━━━━━━━━━━━━━━━━━━\u001b[0m\u001b[37m\u001b[0m \u001b[1m85s\u001b[0m 147ms/step - accuracy: 0.0716 - loss: 3.6585\n",
            "\u001b[1m286/286\u001b[0m \u001b[32m━━━━━━━━━━━━━━━━━━━━\u001b[0m\u001b[37m\u001b[0m \u001b[1m14s\u001b[0m 48ms/step\n",
            "[CV] END .............model__gamma=0.1, model__num_units=150; total time= 1.8min\n",
            "\u001b[1m572/572\u001b[0m \u001b[32m━━━━━━━━━━━━━━━━━━━━\u001b[0m\u001b[37m\u001b[0m \u001b[1m91s\u001b[0m 158ms/step - accuracy: 0.0725 - loss: 3.6511\n",
            "\u001b[1m286/286\u001b[0m \u001b[32m━━━━━━━━━━━━━━━━━━━━\u001b[0m\u001b[37m\u001b[0m \u001b[1m14s\u001b[0m 47ms/step\n",
            "[CV] END .............model__gamma=0.1, model__num_units=150; total time= 2.6min\n",
            "\u001b[1m572/572\u001b[0m \u001b[32m━━━━━━━━━━━━━━━━━━━━\u001b[0m\u001b[37m\u001b[0m \u001b[1m87s\u001b[0m 150ms/step - accuracy: 0.0722 - loss: 3.6499\n",
            "\u001b[1m286/286\u001b[0m \u001b[32m━━━━━━━━━━━━━━━━━━━━\u001b[0m\u001b[37m\u001b[0m \u001b[1m14s\u001b[0m 50ms/step\n",
            "[CV] END .............model__gamma=0.1, model__num_units=150; total time= 2.7min\n",
            "\u001b[1m572/572\u001b[0m \u001b[32m━━━━━━━━━━━━━━━━━━━━\u001b[0m\u001b[37m\u001b[0m \u001b[1m16s\u001b[0m 26ms/step - accuracy: 0.0580 - loss: 3.7006\n",
            "\u001b[1m286/286\u001b[0m \u001b[32m━━━━━━━━━━━━━━━━━━━━\u001b[0m\u001b[37m\u001b[0m \u001b[1m2s\u001b[0m 7ms/step\n",
            "[CV] END ..............model__gamma=0.5, model__num_units=50; total time=  19.7s\n",
            "\u001b[1m572/572\u001b[0m \u001b[32m━━━━━━━━━━━━━━━━━━━━\u001b[0m\u001b[37m\u001b[0m \u001b[1m15s\u001b[0m 26ms/step - accuracy: 0.0604 - loss: 3.6996\n",
            "\u001b[1m286/286\u001b[0m \u001b[32m━━━━━━━━━━━━━━━━━━━━\u001b[0m\u001b[37m\u001b[0m \u001b[1m3s\u001b[0m 10ms/step\n",
            "[CV] END ..............model__gamma=0.5, model__num_units=50; total time=  27.3s\n",
            "\u001b[1m572/572\u001b[0m \u001b[32m━━━━━━━━━━━━━━━━━━━━\u001b[0m\u001b[37m\u001b[0m \u001b[1m15s\u001b[0m 25ms/step - accuracy: 0.0620 - loss: 3.6945\n",
            "\u001b[1m286/286\u001b[0m \u001b[32m━━━━━━━━━━━━━━━━━━━━\u001b[0m\u001b[37m\u001b[0m \u001b[1m2s\u001b[0m 7ms/step\n",
            "[CV] END ..............model__gamma=0.5, model__num_units=50; total time=  18.6s\n",
            "\u001b[1m572/572\u001b[0m \u001b[32m━━━━━━━━━━━━━━━━━━━━\u001b[0m\u001b[37m\u001b[0m \u001b[1m59s\u001b[0m 103ms/step - accuracy: 0.0628 - loss: 3.6975\n",
            "\u001b[1m286/286\u001b[0m \u001b[32m━━━━━━━━━━━━━━━━━━━━\u001b[0m\u001b[37m\u001b[0m \u001b[1m10s\u001b[0m 36ms/step\n",
            "[CV] END .............model__gamma=0.5, model__num_units=100; total time= 1.2min\n",
            "\u001b[1m572/572\u001b[0m \u001b[32m━━━━━━━━━━━━━━━━━━━━\u001b[0m\u001b[37m\u001b[0m \u001b[1m57s\u001b[0m 99ms/step - accuracy: 0.0614 - loss: 3.6943\n",
            "\u001b[1m286/286\u001b[0m \u001b[32m━━━━━━━━━━━━━━━━━━━━\u001b[0m\u001b[37m\u001b[0m \u001b[1m12s\u001b[0m 41ms/step\n",
            "[CV] END .............model__gamma=0.5, model__num_units=100; total time= 1.6min\n",
            "\u001b[1m572/572\u001b[0m \u001b[32m━━━━━━━━━━━━━━━━━━━━\u001b[0m\u001b[37m\u001b[0m \u001b[1m56s\u001b[0m 96ms/step - accuracy: 0.0571 - loss: 3.6939\n",
            "\u001b[1m286/286\u001b[0m \u001b[32m━━━━━━━━━━━━━━━━━━━━\u001b[0m\u001b[37m\u001b[0m \u001b[1m10s\u001b[0m 35ms/step\n",
            "[CV] END .............model__gamma=0.5, model__num_units=100; total time= 1.6min\n",
            "\u001b[1m572/572\u001b[0m \u001b[32m━━━━━━━━━━━━━━━━━━━━\u001b[0m\u001b[37m\u001b[0m \u001b[1m93s\u001b[0m 162ms/step - accuracy: 0.0634 - loss: 3.6979\n",
            "\u001b[1m286/286\u001b[0m \u001b[32m━━━━━━━━━━━━━━━━━━━━\u001b[0m\u001b[37m\u001b[0m \u001b[1m13s\u001b[0m 47ms/step\n",
            "[CV] END .............model__gamma=0.5, model__num_units=150; total time= 2.7min\n",
            "\u001b[1m572/572\u001b[0m \u001b[32m━━━━━━━━━━━━━━━━━━━━\u001b[0m\u001b[37m\u001b[0m \u001b[1m87s\u001b[0m 151ms/step - accuracy: 0.0617 - loss: 3.6921\n",
            "\u001b[1m286/286\u001b[0m \u001b[32m━━━━━━━━━━━━━━━━━━━━\u001b[0m\u001b[37m\u001b[0m \u001b[1m14s\u001b[0m 48ms/step\n",
            "[CV] END .............model__gamma=0.5, model__num_units=150; total time= 1.7min\n",
            "\u001b[1m572/572\u001b[0m \u001b[32m━━━━━━━━━━━━━━━━━━━━\u001b[0m\u001b[37m\u001b[0m \u001b[1m82s\u001b[0m 142ms/step - accuracy: 0.0601 - loss: 3.6952\n",
            "\u001b[1m286/286\u001b[0m \u001b[32m━━━━━━━━━━━━━━━━━━━━\u001b[0m\u001b[37m\u001b[0m \u001b[1m13s\u001b[0m 47ms/step\n",
            "[CV] END .............model__gamma=0.5, model__num_units=150; total time= 1.7min\n",
            "\u001b[1m572/572\u001b[0m \u001b[32m━━━━━━━━━━━━━━━━━━━━\u001b[0m\u001b[37m\u001b[0m \u001b[1m15s\u001b[0m 25ms/step - accuracy: 0.0566 - loss: 3.7125\n",
            "\u001b[1m286/286\u001b[0m \u001b[32m━━━━━━━━━━━━━━━━━━━━\u001b[0m\u001b[37m\u001b[0m \u001b[1m2s\u001b[0m 6ms/step\n",
            "[CV] END ..............model__gamma=1.0, model__num_units=50; total time=  17.9s\n",
            "\u001b[1m572/572\u001b[0m \u001b[32m━━━━━━━━━━━━━━━━━━━━\u001b[0m\u001b[37m\u001b[0m \u001b[1m15s\u001b[0m 25ms/step - accuracy: 0.0515 - loss: 3.7120\n",
            "\u001b[1m286/286\u001b[0m \u001b[32m━━━━━━━━━━━━━━━━━━━━\u001b[0m\u001b[37m\u001b[0m \u001b[1m3s\u001b[0m 9ms/step\n",
            "[CV] END ..............model__gamma=1.0, model__num_units=50; total time=  27.9s\n",
            "\u001b[1m572/572\u001b[0m \u001b[32m━━━━━━━━━━━━━━━━━━━━\u001b[0m\u001b[37m\u001b[0m \u001b[1m15s\u001b[0m 25ms/step - accuracy: 0.0518 - loss: 3.7138\n",
            "\u001b[1m286/286\u001b[0m \u001b[32m━━━━━━━━━━━━━━━━━━━━\u001b[0m\u001b[37m\u001b[0m \u001b[1m3s\u001b[0m 9ms/step\n",
            "[CV] END ..............model__gamma=1.0, model__num_units=50; total time=  25.1s\n",
            "\u001b[1m572/572\u001b[0m \u001b[32m━━━━━━━━━━━━━━━━━━━━\u001b[0m\u001b[37m\u001b[0m \u001b[1m59s\u001b[0m 102ms/step - accuracy: 0.0554 - loss: 3.7130\n",
            "\u001b[1m286/286\u001b[0m \u001b[32m━━━━━━━━━━━━━━━━━━━━\u001b[0m\u001b[37m\u001b[0m \u001b[1m7s\u001b[0m 24ms/step\n",
            "[CV] END .............model__gamma=1.0, model__num_units=100; total time= 1.6min\n",
            "\u001b[1m572/572\u001b[0m \u001b[32m━━━━━━━━━━━━━━━━━━━━\u001b[0m\u001b[37m\u001b[0m \u001b[1m49s\u001b[0m 84ms/step - accuracy: 0.0557 - loss: 3.7123\n",
            "\u001b[1m286/286\u001b[0m \u001b[32m━━━━━━━━━━━━━━━━━━━━\u001b[0m\u001b[37m\u001b[0m \u001b[1m16s\u001b[0m 57ms/step\n",
            "[CV] END .............model__gamma=1.0, model__num_units=100; total time= 1.7min\n",
            "\u001b[1m572/572\u001b[0m \u001b[32m━━━━━━━━━━━━━━━━━━━━\u001b[0m\u001b[37m\u001b[0m \u001b[1m59s\u001b[0m 103ms/step - accuracy: 0.0562 - loss: 3.7129\n",
            "\u001b[1m286/286\u001b[0m \u001b[32m━━━━━━━━━━━━━━━━━━━━\u001b[0m\u001b[37m\u001b[0m \u001b[1m10s\u001b[0m 36ms/step\n",
            "[CV] END .............model__gamma=1.0, model__num_units=100; total time= 1.7min\n",
            "\u001b[1m572/572\u001b[0m \u001b[32m━━━━━━━━━━━━━━━━━━━━\u001b[0m\u001b[37m\u001b[0m \u001b[1m91s\u001b[0m 157ms/step - accuracy: 0.0561 - loss: 3.7135\n",
            "\u001b[1m286/286\u001b[0m \u001b[32m━━━━━━━━━━━━━━━━━━━━\u001b[0m\u001b[37m\u001b[0m \u001b[1m14s\u001b[0m 49ms/step\n",
            "[CV] END .............model__gamma=1.0, model__num_units=150; total time= 2.6min\n",
            "\u001b[1m572/572\u001b[0m \u001b[32m━━━━━━━━━━━━━━━━━━━━\u001b[0m\u001b[37m\u001b[0m \u001b[1m86s\u001b[0m 148ms/step - accuracy: 0.0563 - loss: 3.7126\n",
            "\u001b[1m286/286\u001b[0m \u001b[32m━━━━━━━━━━━━━━━━━━━━\u001b[0m\u001b[37m\u001b[0m \u001b[1m14s\u001b[0m 50ms/step\n",
            "[CV] END .............model__gamma=1.0, model__num_units=150; total time= 1.8min\n",
            "\u001b[1m572/572\u001b[0m \u001b[32m━━━━━━━━━━━━━━━━━━━━\u001b[0m\u001b[37m\u001b[0m \u001b[1m85s\u001b[0m 147ms/step - accuracy: 0.0512 - loss: 3.7128\n",
            "\u001b[1m286/286\u001b[0m \u001b[32m━━━━━━━━━━━━━━━━━━━━\u001b[0m\u001b[37m\u001b[0m \u001b[1m14s\u001b[0m 50ms/step\n",
            "[CV] END .............model__gamma=1.0, model__num_units=150; total time= 2.6min\n",
            "\u001b[1m858/858\u001b[0m \u001b[32m━━━━━━━━━━━━━━━━━━━━\u001b[0m\u001b[37m\u001b[0m \u001b[1m136s\u001b[0m 157ms/step - accuracy: 0.0783 - loss: 3.6237\n",
            "Best parameters found by GridSearchCV: {'model__gamma': 0.1, 'model__num_units': 150}\n",
            "Best score found by GridSearchCV: 0.09764630610023001\n"
          ]
        }
      ],
      "source": [
        "# Parameter grid for GridSearchCV\n",
        "param_grid = {\n",
        "    'model__num_units': [50, 100, 150],  # Updated: model__num_units\n",
        "    'model__gamma': [0.1, 0.5, 1.0],  # Updated: model__gamma\n",
        "}\n",
        "\n",
        "# Create GridSearchCV object\n",
        "grid_search = GridSearchCV(\n",
        "    estimator=KerasClassifier(model=create_model), # Updated line\n",
        "    param_grid=param_grid,\n",
        "    cv=3,  # Number of cross-validation folds\n",
        "    verbose=2,\n",
        ")\n",
        "\n",
        "# Fit the model\n",
        "grid_search.fit(X_train, y_train)\n",
        "\n",
        "# Get the best parameters and score\n",
        "print(\"Best parameters found by GridSearchCV:\", grid_search.best_params_)\n",
        "print(\"Best score found by GridSearchCV:\", grid_search.best_score_)"
      ]
    }
  ],
  "metadata": {
    "accelerator": "GPU",
    "colab": {
      "gpuType": "T4",
      "provenance": [],
      "mount_file_id": "1UwvCdnBmH5Ai4JA4Jny62iykb_Q8Fqcj",
      "authorship_tag": "ABX9TyOTYzsz+Z2arUaxKJf+B57K",
      "include_colab_link": true
    },
    "kernelspec": {
      "display_name": "Python 3",
      "name": "python3"
    },
    "language_info": {
      "name": "python"
    }
  },
  "nbformat": 4,
  "nbformat_minor": 0
}