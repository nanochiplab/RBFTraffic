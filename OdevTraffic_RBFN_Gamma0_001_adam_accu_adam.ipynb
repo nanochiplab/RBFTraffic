{
  "cells": [
    {
      "cell_type": "markdown",
      "metadata": {
        "id": "view-in-github",
        "colab_type": "text"
      },
      "source": [
        "<a href=\"https://colab.research.google.com/github/nanochiplab/RBFTraffic/blob/main/OdevTraffic_RBFN_Gamma0_001_adam_accu_adam.ipynb\" target=\"_parent\"><img src=\"https://colab.research.google.com/assets/colab-badge.svg\" alt=\"Open In Colab\"/></a>"
      ]
    },
    {
      "cell_type": "code",
      "execution_count": 1,
      "metadata": {
        "id": "9xFSTK1fq0vs"
      },
      "outputs": [],
      "source": [
        "import keras\n",
        "import numpy as np\n",
        "import pandas as pd\n",
        "import matplotlib.pyplot as plt\n",
        "import tensorflow as tf\n",
        "from PIL import Image\n",
        "\n",
        "import os\n",
        "from keras.utils import load_img, img_to_array\n",
        "from sklearn.model_selection import train_test_split\n",
        "from sklearn.metrics import confusion_matrix\n",
        "\n",
        "from tensorflow.keras.models import Sequential, load_model\n",
        "from tensorflow.keras.layers import Conv2D, MaxPooling2D, Dense, Flatten, Dropout,Activation,InputLayer,Layer\n",
        "\n",
        "import seaborn as sns\n",
        "from sklearn.metrics import confusion_matrix\n"
      ]
    },
    {
      "cell_type": "code",
      "execution_count": 2,
      "metadata": {
        "id": "AaO7heLF2TtN"
      },
      "outputs": [],
      "source": [
        "#!git clone https://github.com/sonu275981/GTSRB---German-Traffic-Sign-Recognition\n",
        "#cur_path= \"GTSRB---German-Traffic-Sign-Recognition/gtsrb-german-traffic-sign/Train/\"\n",
        "!git clone https://github.com/MohamedNennouche/German-Traffic-Sign-Recognition\n",
        "cur_path= \"German-Traffic-Sign-Recognition/Train/\"\n"
      ]
    },
    {
      "cell_type": "code",
      "execution_count": 3,
      "metadata": {
        "colab": {
          "base_uri": "https://localhost:8080/"
        },
        "id": "g8iWdEuzzyER",
        "outputId": "c2607300-e0ee-4669-b219-ae6618d14109"
      },
      "outputs": [
        {
          "output_type": "stream",
          "name": "stdout",
          "text": [
            "\n",
            "Görüntüler Yükleniyor...\n",
            "************************........:\n",
            "\n",
            "Toplam yüklenen görüntü sayısı: 39209\n",
            "************************........:\n"
          ]
        }
      ],
      "source": [
        "\n",
        "data = []\n",
        "labels = []\n",
        "classes = 43  # Toplam sınıf sayısı\n",
        "\n",
        "# Veri listeleri\n",
        "X = []\n",
        "y = []\n",
        "\n",
        "print(\"\")\n",
        "print(\"Görüntüler Yükleniyor...\")\n",
        "print(\"************************........:\")\n",
        "print(\"\")\n",
        "\n",
        "# Görüntüleri yükleme\n",
        "\n",
        "# Görüntüleri yükleme\n",
        "for i in range(classes):\n",
        "    path = os.path.join(cur_path, str(i))\n",
        "\n",
        "\n",
        "    # Özyinelemeli olarak tüm dosyaları gez\n",
        "    for root, dirs, files in os.walk(path):\n",
        "        for file in files:\n",
        "            try:\n",
        "                image_path = os.path.join(root, file)\n",
        "\n",
        "                # Görüntü dosyasını yükle ve işle\n",
        "                image = Image.open(image_path)\n",
        "                image = image.resize((30, 30))\n",
        "                image = np.array(image)\n",
        "\n",
        "                # Veri ve etiketleri ekle\n",
        "                #data.append([image, i])\n",
        "                data.append(image)\n",
        "                labels.append(i)  # Etiketleri ayrı olarak ekleyin\n",
        "            except Exception as e:\n",
        "                print(f\"Hata: Görüntü yüklenemedi. Dosya: {image_path}, Hata: {e}\")\n",
        "\n",
        "print(f\"Toplam yüklenen görüntü sayısı: {len(data)}\")\n",
        "print(\"************************........:\")\n",
        "\n",
        "#x = []\n",
        "#y = []\n",
        "\"\"\"\n",
        "X = []\n",
        "y = []\n",
        "\n",
        "for features,label in data:\n",
        "    X.append(features)\n",
        "    y.append(label)\n",
        "\"\"\"\n",
        "#Converting lists into numpy arrays\n",
        "X = np.array(data)\n",
        "y = np.array(labels)"
      ]
    },
    {
      "cell_type": "code",
      "execution_count": 4,
      "metadata": {
        "colab": {
          "base_uri": "https://localhost:8080/"
        },
        "id": "ley08T6R4aGT",
        "outputId": "047cfa50-374d-45f9-94f5-8d4c5fb20ca7"
      },
      "outputs": [
        {
          "output_type": "stream",
          "name": "stdout",
          "text": [
            "Requirement already satisfied: scikeras in /usr/local/lib/python3.10/dist-packages (0.13.0)\n",
            "Requirement already satisfied: keras>=3.2.0 in /usr/local/lib/python3.10/dist-packages (from scikeras) (3.5.0)\n",
            "Requirement already satisfied: scikit-learn>=1.4.2 in /usr/local/lib/python3.10/dist-packages (from scikeras) (1.5.2)\n",
            "Requirement already satisfied: absl-py in /usr/local/lib/python3.10/dist-packages (from keras>=3.2.0->scikeras) (1.4.0)\n",
            "Requirement already satisfied: numpy in /usr/local/lib/python3.10/dist-packages (from keras>=3.2.0->scikeras) (1.26.4)\n",
            "Requirement already satisfied: rich in /usr/local/lib/python3.10/dist-packages (from keras>=3.2.0->scikeras) (13.9.4)\n",
            "Requirement already satisfied: namex in /usr/local/lib/python3.10/dist-packages (from keras>=3.2.0->scikeras) (0.0.8)\n",
            "Requirement already satisfied: h5py in /usr/local/lib/python3.10/dist-packages (from keras>=3.2.0->scikeras) (3.12.1)\n",
            "Requirement already satisfied: optree in /usr/local/lib/python3.10/dist-packages (from keras>=3.2.0->scikeras) (0.13.1)\n",
            "Requirement already satisfied: ml-dtypes in /usr/local/lib/python3.10/dist-packages (from keras>=3.2.0->scikeras) (0.4.1)\n",
            "Requirement already satisfied: packaging in /usr/local/lib/python3.10/dist-packages (from keras>=3.2.0->scikeras) (24.2)\n",
            "Requirement already satisfied: scipy>=1.6.0 in /usr/local/lib/python3.10/dist-packages (from scikit-learn>=1.4.2->scikeras) (1.13.1)\n",
            "Requirement already satisfied: joblib>=1.2.0 in /usr/local/lib/python3.10/dist-packages (from scikit-learn>=1.4.2->scikeras) (1.4.2)\n",
            "Requirement already satisfied: threadpoolctl>=3.1.0 in /usr/local/lib/python3.10/dist-packages (from scikit-learn>=1.4.2->scikeras) (3.5.0)\n",
            "Requirement already satisfied: typing-extensions>=4.5.0 in /usr/local/lib/python3.10/dist-packages (from optree->keras>=3.2.0->scikeras) (4.12.2)\n",
            "Requirement already satisfied: markdown-it-py>=2.2.0 in /usr/local/lib/python3.10/dist-packages (from rich->keras>=3.2.0->scikeras) (3.0.0)\n",
            "Requirement already satisfied: pygments<3.0.0,>=2.13.0 in /usr/local/lib/python3.10/dist-packages (from rich->keras>=3.2.0->scikeras) (2.18.0)\n",
            "Requirement already satisfied: mdurl~=0.1 in /usr/local/lib/python3.10/dist-packages (from markdown-it-py>=2.2.0->rich->keras>=3.2.0->scikeras) (0.1.2)\n"
          ]
        }
      ],
      "source": [
        "!pip install scikeras"
      ]
    },
    {
      "cell_type": "code",
      "execution_count": 7,
      "metadata": {
        "id": "IIJJOyj7bbAL",
        "colab": {
          "base_uri": "https://localhost:8080/"
        },
        "outputId": "3d5c33ca-818d-4d52-c8bf-9a087113a262"
      },
      "outputs": [
        {
          "output_type": "stream",
          "name": "stdout",
          "text": [
            "Epoch 1/20\n",
            "\u001b[1m429/429\u001b[0m \u001b[32m━━━━━━━━━━━━━━━━━━━━\u001b[0m\u001b[37m\u001b[0m \u001b[1m94s\u001b[0m 218ms/step - accuracy: 0.0512 - loss: 3.5593 - val_accuracy: 0.0598 - val_loss: 3.4977\n",
            "Epoch 2/20\n",
            "\u001b[1m429/429\u001b[0m \u001b[32m━━━━━━━━━━━━━━━━━━━━\u001b[0m\u001b[37m\u001b[0m \u001b[1m138s\u001b[0m 208ms/step - accuracy: 0.0519 - loss: 3.5072 - val_accuracy: 0.0478 - val_loss: 3.5125\n",
            "Epoch 3/20\n",
            "\u001b[1m429/429\u001b[0m \u001b[32m━━━━━━━━━━━━━━━━━━━━\u001b[0m\u001b[37m\u001b[0m \u001b[1m142s\u001b[0m 208ms/step - accuracy: 0.0524 - loss: 3.4979 - val_accuracy: 0.0526 - val_loss: 3.5001\n",
            "Epoch 4/20\n",
            "\u001b[1m429/429\u001b[0m \u001b[32m━━━━━━━━━━━━━━━━━━━━\u001b[0m\u001b[37m\u001b[0m \u001b[1m143s\u001b[0m 210ms/step - accuracy: 0.0567 - loss: 3.5027 - val_accuracy: 0.0583 - val_loss: 3.5009\n",
            "Epoch 5/20\n",
            "\u001b[1m429/429\u001b[0m \u001b[32m━━━━━━━━━━━━━━━━━━━━\u001b[0m\u001b[37m\u001b[0m \u001b[1m142s\u001b[0m 210ms/step - accuracy: 0.0575 - loss: 3.5084 - val_accuracy: 0.0598 - val_loss: 3.4963\n",
            "Epoch 6/20\n",
            "\u001b[1m429/429\u001b[0m \u001b[32m━━━━━━━━━━━━━━━━━━━━\u001b[0m\u001b[37m\u001b[0m \u001b[1m92s\u001b[0m 214ms/step - accuracy: 0.0545 - loss: 3.4956 - val_accuracy: 0.0583 - val_loss: 3.4988\n",
            "Epoch 7/20\n",
            "\u001b[1m429/429\u001b[0m \u001b[32m━━━━━━━━━━━━━━━━━━━━\u001b[0m\u001b[37m\u001b[0m \u001b[1m140s\u001b[0m 210ms/step - accuracy: 0.0535 - loss: 3.5090 - val_accuracy: 0.0526 - val_loss: 3.5099\n",
            "Epoch 8/20\n",
            "\u001b[1m429/429\u001b[0m \u001b[32m━━━━━━━━━━━━━━━━━━━━\u001b[0m\u001b[37m\u001b[0m \u001b[1m142s\u001b[0m 211ms/step - accuracy: 0.0546 - loss: 3.5072 - val_accuracy: 0.0598 - val_loss: 3.5029\n",
            "Epoch 9/20\n",
            "\u001b[1m429/429\u001b[0m \u001b[32m━━━━━━━━━━━━━━━━━━━━\u001b[0m\u001b[37m\u001b[0m \u001b[1m141s\u001b[0m 210ms/step - accuracy: 0.0539 - loss: 3.5061 - val_accuracy: 0.0473 - val_loss: 3.5057\n",
            "Epoch 10/20\n",
            "\u001b[1m429/429\u001b[0m \u001b[32m━━━━━━━━━━━━━━━━━━━━\u001b[0m\u001b[37m\u001b[0m \u001b[1m143s\u001b[0m 212ms/step - accuracy: 0.0521 - loss: 3.5114 - val_accuracy: 0.0550 - val_loss: 3.4945\n",
            "Epoch 11/20\n",
            "\u001b[1m429/429\u001b[0m \u001b[32m━━━━━━━━━━━━━━━━━━━━\u001b[0m\u001b[37m\u001b[0m \u001b[1m141s\u001b[0m 210ms/step - accuracy: 0.0541 - loss: 3.5096 - val_accuracy: 0.0583 - val_loss: 3.5035\n",
            "Epoch 12/20\n",
            "\u001b[1m429/429\u001b[0m \u001b[32m━━━━━━━━━━━━━━━━━━━━\u001b[0m\u001b[37m\u001b[0m \u001b[1m141s\u001b[0m 208ms/step - accuracy: 0.0502 - loss: 3.5035 - val_accuracy: 0.0550 - val_loss: 3.5045\n",
            "Epoch 13/20\n",
            "\u001b[1m429/429\u001b[0m \u001b[32m━━━━━━━━━━━━━━━━━━━━\u001b[0m\u001b[37m\u001b[0m \u001b[1m90s\u001b[0m 210ms/step - accuracy: 0.0556 - loss: 3.5095 - val_accuracy: 0.0556 - val_loss: 3.5051\n",
            "Epoch 14/20\n",
            "\u001b[1m429/429\u001b[0m \u001b[32m━━━━━━━━━━━━━━━━━━━━\u001b[0m\u001b[37m\u001b[0m \u001b[1m142s\u001b[0m 210ms/step - accuracy: 0.0535 - loss: 3.5062 - val_accuracy: 0.0478 - val_loss: 3.4999\n",
            "Epoch 15/20\n",
            "\u001b[1m429/429\u001b[0m \u001b[32m━━━━━━━━━━━━━━━━━━━━\u001b[0m\u001b[37m\u001b[0m \u001b[1m90s\u001b[0m 211ms/step - accuracy: 0.0529 - loss: 3.5039 - val_accuracy: 0.0583 - val_loss: 3.4996\n",
            "Epoch 16/20\n",
            "\u001b[1m429/429\u001b[0m \u001b[32m━━━━━━━━━━━━━━━━━━━━\u001b[0m\u001b[37m\u001b[0m \u001b[1m152s\u001b[0m 235ms/step - accuracy: 0.0525 - loss: 3.5122 - val_accuracy: 0.0526 - val_loss: 3.4976\n",
            "Epoch 17/20\n",
            "\u001b[1m429/429\u001b[0m \u001b[32m━━━━━━━━━━━━━━━━━━━━\u001b[0m\u001b[37m\u001b[0m \u001b[1m131s\u001b[0m 210ms/step - accuracy: 0.0535 - loss: 3.5037 - val_accuracy: 0.0550 - val_loss: 3.4970\n",
            "Epoch 18/20\n",
            "\u001b[1m429/429\u001b[0m \u001b[32m━━━━━━━━━━━━━━━━━━━━\u001b[0m\u001b[37m\u001b[0m \u001b[1m142s\u001b[0m 210ms/step - accuracy: 0.0554 - loss: 3.4980 - val_accuracy: 0.0478 - val_loss: 3.5048\n",
            "Epoch 19/20\n",
            "\u001b[1m429/429\u001b[0m \u001b[32m━━━━━━━━━━━━━━━━━━━━\u001b[0m\u001b[37m\u001b[0m \u001b[1m141s\u001b[0m 209ms/step - accuracy: 0.0518 - loss: 3.5067 - val_accuracy: 0.0556 - val_loss: 3.4985\n",
            "Epoch 20/20\n",
            "\u001b[1m429/429\u001b[0m \u001b[32m━━━━━━━━━━━━━━━━━━━━\u001b[0m\u001b[37m\u001b[0m \u001b[1m143s\u001b[0m 211ms/step - accuracy: 0.0534 - loss: 3.5063 - val_accuracy: 0.0550 - val_loss: 3.4934\n",
            "\u001b[1m368/368\u001b[0m \u001b[32m━━━━━━━━━━━━━━━━━━━━\u001b[0m\u001b[37m\u001b[0m \u001b[1m11s\u001b[0m 31ms/step - accuracy: 0.0571 - loss: 3.4873\n",
            "Test doğruluğu: 0.06\n"
          ]
        }
      ],
      "source": [
        "from sklearn.model_selection import GridSearchCV, RandomizedSearchCV\n",
        "from sklearn.preprocessing import StandardScaler\n",
        "#from tensorflow.keras.wrappers.scikit_learn import KerasClassifier\n",
        "from scikeras.wrappers import KerasClassifier\n",
        "from tensorflow.keras.optimizers import Adam\n",
        "#from tensorflow.keras.layers import Layer\n",
        "from tensorflow.keras import backend as K\n",
        "from tensorflow.keras.utils import to_categorical\n",
        "\n",
        "import numpy as np\n",
        "import tensorflow as tf\n",
        "from tensorflow.keras.models import Sequential\n",
        "from tensorflow.keras.layers import Dense, Input, Layer, Flatten\n",
        "from sklearn.model_selection import train_test_split\n",
        "from tensorflow.keras.utils import to_categorical\n",
        "\n",
        "#from tensorflow.keras import metrics  # Import metrics module\n",
        "\n",
        "# Özel RBF katmanı tanımı\n",
        "class RBFLayer(Layer):\n",
        "    def __init__(self, num_units, gamma, **kwargs):\n",
        "        super(RBFLayer, self).__init__(**kwargs)\n",
        "        self.num_units = num_units\n",
        "        self.gamma = gamma\n",
        "\n",
        "    def build(self, input_shape):\n",
        "        self.centers = self.add_weight(name='centers',\n",
        "                                       shape=(self.num_units, input_shape[-1]),\n",
        "                                       initializer='random_normal',\n",
        "                                       trainable=True)\n",
        "        self.built = True\n",
        "\n",
        "    def call(self, inputs):\n",
        "        # RBF fonksiyonu: exp(-gamma * ||inputs - centers||^2)\n",
        "        diff = tf.expand_dims(inputs, axis=1) - self.centers\n",
        "        sq_dist = tf.reduce_sum(tf.square(diff), axis=-1)\n",
        "        return tf.exp(-self.gamma * sq_dist)\n",
        "\n",
        "# Veriyi normalize etme ve sınıflara ayırma\n",
        "X = X / 255.0  # Piksel değerlerini 0-1 arasında normalize et\n",
        "y = to_categorical(labels, num_classes=len(np.unique(labels)))  # Etiketleri one-hot encode et\n",
        "\n",
        "# Eğitim ve test setlerini oluştur\n",
        "X_train, X_test, y_train, y_test = train_test_split(X, y, test_size=0.3, random_state=42)\n",
        "\n",
        "# Modeli oluşturma\n",
        "model = Sequential([\n",
        "    Input(shape=(30, 30, 3)),   # Görüntü boyutları (30x30x3)\n",
        "    Flatten(),                  # Görüntüyü düzleştir\n",
        "    RBFLayer(num_units=100, gamma=0.001),  # RBF katmanı\n",
        "    Dense(len(y[0]), activation='softmax')  # Çıktı katmanı (sınıf sayısı kadar)\n",
        "])\n",
        "\n",
        "# Modeli derleme\n",
        "model.compile(optimizer='adam', loss='categorical_crossentropy', metrics=['accuracy'])\n",
        "\n",
        "# Modeli eğitme\n",
        "history = model.fit(X_train, y_train, validation_data=(X_test, y_test), epochs=20, batch_size=64)\n",
        "\n",
        "# Test doğruluğunu değerlendirme\n",
        "# Unpack only loss and accuracy\n",
        "test_loss, test_acc = model.evaluate(X_test, y_test)\n",
        "print(f\"Test doğruluğu: {test_acc:.2f}\")\n",
        "\n"
      ]
    },
    {
      "cell_type": "code",
      "execution_count": 8,
      "metadata": {
        "colab": {
          "base_uri": "https://localhost:8080/"
        },
        "id": "82Su2C4uLB3d",
        "outputId": "94251c84-5b06-4983-a573-ac48cf37a18d"
      },
      "outputs": [
        {
          "output_type": "stream",
          "name": "stdout",
          "text": [
            "Fitting 3 folds for each of 2 candidates, totalling 6 fits\n"
          ]
        },
        {
          "output_type": "stream",
          "name": "stderr",
          "text": [
            "/usr/local/lib/python3.10/dist-packages/sklearn/model_selection/_search.py:320: UserWarning: The total space of parameters 2 is smaller than n_iter=5. Running 2 iterations. For exhaustive searches, use GridSearchCV.\n",
            "  warnings.warn(\n"
          ]
        },
        {
          "output_type": "stream",
          "name": "stdout",
          "text": [
            "En iyi parametreler: {'model__optimizer': 'adam', 'model__num_units': 50, 'model__gamma': 0.001, 'epochs': 20, 'batch_size': 32}\n",
            "En iyi doğruluk: 0.05560017653930924\n",
            "\u001b[1m368/368\u001b[0m \u001b[32m━━━━━━━━━━━━━━━━━━━━\u001b[0m\u001b[37m\u001b[0m \u001b[1m3s\u001b[0m 6ms/step - accuracy: 0.0571 - loss: 3.4928\n",
            "Test doğruluğu (optimized): 0.06\n"
          ]
        }
      ],
      "source": [
        "def create_model(num_units=100, gamma=0.1, optimizer='adam'):\n",
        "    model = Sequential([\n",
        "        Input(shape=(30, 30, 3)),   # Görüntü boyutları (30x30x3)\n",
        "        Flatten(),                  # Görüntüyü düzleştir\n",
        "        RBFLayer(num_units=num_units, gamma=gamma),  # RBF katmanı\n",
        "        Dense(len(y_train[0]), activation='softmax')  # Çıktı katmanı (sınıf sayısı kadar)\n",
        "    ])\n",
        "    model.compile(optimizer=optimizer, loss='categorical_crossentropy', metrics=['accuracy'])\n",
        "    return model\n",
        "\n",
        "#Modeli bir KerasClassifier içine sarmalayarak, Scikit-learn’ün arama metodlarıyla uyumlu hale getiriyoruz.\n",
        "keras_model = KerasClassifier(model=create_model, verbose=0)\n",
        "\n",
        "#Hiperparametre Alanı ve RandomizedSearchCV\n",
        "#Hiperparametreler için arama alanını belirliyoruz. Burada num_units, gamma, optimizer, batch_size, ve epochs\n",
        "#gibi parametrelerin aralığını belirtebiliriz.\n",
        "\n",
        "# Hiperparametre arama alanı\n",
        "# Hiperparametre arama alanı\n",
        "param_distributions = {\n",
        "    'model__num_units': [50],            # RBF katmanı birim sayısı\n",
        "    'model__gamma': [0.001],           # RBF gamma parametresi\n",
        "    'model__optimizer': ['adam'], # Farklı optimizasyon algoritmaları\n",
        "    'batch_size': [32],            # Batch size\n",
        "    'epochs': [10, 20]\n",
        "}\n",
        "\"\"\"\n",
        "param_distributions = {\n",
        "    'model__num_units': [50, 100, 150],            # RBF katmanı birim sayısı\n",
        "    'model__gamma': [0.01, 0.1, 1, 10],           # RBF gamma parametresi\n",
        "    'model__optimizer': ['adam', 'sgd', 'rmsprop'], # Farklı optimizasyon algoritmaları\n",
        "    'batch_size': [32, 64, 128],            # Batch size\n",
        "    'epochs': [10, 20]                      # Eğitim döngü sayısı\n",
        "}\n",
        "\"\"\"\n",
        "#******************************************\n",
        "# RandomizedSearchCV yapılandırma\n",
        "random_search = RandomizedSearchCV(\n",
        "    estimator=keras_model,\n",
        "    param_distributions=param_distributions,\n",
        "    n_iter=5,  # Arama yapılacak kombinasyon sayısı\n",
        "    cv=3,       # 3 katlı çapraz doğrulama\n",
        "    verbose=2,\n",
        "    n_jobs=-1   # Paralel çalıştırma (tüm çekirdekler)\n",
        ")\n",
        "#Modeli Eğitme ve En İyi Sonuçları Bulma\n",
        "#Arama işlemini başlatıyoruz ve en iyi parametre kombinasyonunu buluyoruz.\n",
        "random_search.fit(X_train, y_train)\n",
        "\n",
        "# En iyi parametreleri ve doğruluğu görüntüleme\n",
        "print(\"En iyi parametreler:\", random_search.best_params_)\n",
        "print(\"En iyi doğruluk:\", random_search.best_score_)\n",
        "\n",
        "#Seçilen Parametrelerle Modeli Test Etme\n",
        "#En iyi parametrelerle oluşturulan modeli test etmek için:\n",
        "\n",
        "best_model = random_search.best_estimator_\n",
        "test_loss, test_acc = best_model.model_.evaluate(X_test, y_test)\n",
        "print(f\"Test doğruluğu (optimized): {test_acc:.2f}\")\n"
      ]
    },
    {
      "cell_type": "code",
      "execution_count": null,
      "metadata": {
        "id": "tlOR2ku3HB7m",
        "colab": {
          "base_uri": "https://localhost:8080/"
        },
        "outputId": "5ce6d95b-30ba-4acb-ca0f-c3ed74ebf330"
      },
      "outputs": [
        {
          "output_type": "stream",
          "name": "stdout",
          "text": [
            "Fitting 3 folds for each of 9 candidates, totalling 27 fits\n",
            "\u001b[1m572/572\u001b[0m \u001b[32m━━━━━━━━━━━━━━━━━━━━\u001b[0m\u001b[37m\u001b[0m \u001b[1m18s\u001b[0m 30ms/step - accuracy: 0.0652 - loss: 3.6700\n",
            "\u001b[1m286/286\u001b[0m \u001b[32m━━━━━━━━━━━━━━━━━━━━\u001b[0m\u001b[37m\u001b[0m \u001b[1m2s\u001b[0m 6ms/step\n",
            "[CV] END ..............model__gamma=0.1, model__num_units=50; total time=  21.6s\n",
            "\u001b[1m572/572\u001b[0m \u001b[32m━━━━━━━━━━━━━━━━━━━━\u001b[0m\u001b[37m\u001b[0m \u001b[1m17s\u001b[0m 29ms/step - accuracy: 0.0647 - loss: 3.6628\n",
            "\u001b[1m286/286\u001b[0m \u001b[32m━━━━━━━━━━━━━━━━━━━━\u001b[0m\u001b[37m\u001b[0m \u001b[1m2s\u001b[0m 8ms/step\n",
            "[CV] END ..............model__gamma=0.1, model__num_units=50; total time=  21.0s\n",
            "\u001b[1m572/572\u001b[0m \u001b[32m━━━━━━━━━━━━━━━━━━━━\u001b[0m\u001b[37m\u001b[0m \u001b[1m17s\u001b[0m 28ms/step - accuracy: 0.0632 - loss: 3.6596\n",
            "\u001b[1m286/286\u001b[0m \u001b[32m━━━━━━━━━━━━━━━━━━━━\u001b[0m\u001b[37m\u001b[0m \u001b[1m2s\u001b[0m 6ms/step\n",
            "[CV] END ..............model__gamma=0.1, model__num_units=50; total time=  20.9s\n",
            "\u001b[1m572/572\u001b[0m \u001b[32m━━━━━━━━━━━━━━━━━━━━\u001b[0m\u001b[37m\u001b[0m \u001b[1m49s\u001b[0m 85ms/step - accuracy: 0.0706 - loss: 3.6628\n",
            "\u001b[1m286/286\u001b[0m \u001b[32m━━━━━━━━━━━━━━━━━━━━\u001b[0m\u001b[37m\u001b[0m \u001b[1m8s\u001b[0m 28ms/step\n",
            "[CV] END .............model__gamma=0.1, model__num_units=100; total time=  58.8s\n",
            "\u001b[1m572/572\u001b[0m \u001b[32m━━━━━━━━━━━━━━━━━━━━\u001b[0m\u001b[37m\u001b[0m \u001b[1m50s\u001b[0m 86ms/step - accuracy: 0.0763 - loss: 3.6489\n",
            "\u001b[1m286/286\u001b[0m \u001b[32m━━━━━━━━━━━━━━━━━━━━\u001b[0m\u001b[37m\u001b[0m \u001b[1m8s\u001b[0m 27ms/step\n",
            "[CV] END .............model__gamma=0.1, model__num_units=100; total time= 1.0min\n",
            "\u001b[1m572/572\u001b[0m \u001b[32m━━━━━━━━━━━━━━━━━━━━\u001b[0m\u001b[37m\u001b[0m \u001b[1m50s\u001b[0m 86ms/step - accuracy: 0.0727 - loss: 3.6506\n",
            "\u001b[1m286/286\u001b[0m \u001b[32m━━━━━━━━━━━━━━━━━━━━\u001b[0m\u001b[37m\u001b[0m \u001b[1m7s\u001b[0m 25ms/step\n",
            "[CV] END .............model__gamma=0.1, model__num_units=100; total time= 1.0min\n",
            "\u001b[1m572/572\u001b[0m \u001b[32m━━━━━━━━━━━━━━━━━━━━\u001b[0m\u001b[37m\u001b[0m \u001b[1m85s\u001b[0m 147ms/step - accuracy: 0.0691 - loss: 3.6619\n",
            "\u001b[1m286/286\u001b[0m \u001b[32m━━━━━━━━━━━━━━━━━━━━\u001b[0m\u001b[37m\u001b[0m \u001b[1m19s\u001b[0m 65ms/step\n",
            "[CV] END .............model__gamma=0.1, model__num_units=150; total time= 2.7min\n",
            "\u001b[1m572/572\u001b[0m \u001b[32m━━━━━━━━━━━━━━━━━━━━\u001b[0m\u001b[37m\u001b[0m \u001b[1m91s\u001b[0m 157ms/step - accuracy: 0.0779 - loss: 3.6487\n",
            "\u001b[1m286/286\u001b[0m \u001b[32m━━━━━━━━━━━━━━━━━━━━\u001b[0m\u001b[37m\u001b[0m \u001b[1m15s\u001b[0m 54ms/step\n",
            "[CV] END .............model__gamma=0.1, model__num_units=150; total time= 2.7min\n",
            "\u001b[1m572/572\u001b[0m \u001b[32m━━━━━━━━━━━━━━━━━━━━\u001b[0m\u001b[37m\u001b[0m \u001b[1m85s\u001b[0m 147ms/step - accuracy: 0.0693 - loss: 3.6518\n",
            "\u001b[1m286/286\u001b[0m \u001b[32m━━━━━━━━━━━━━━━━━━━━\u001b[0m\u001b[37m\u001b[0m \u001b[1m14s\u001b[0m 50ms/step\n",
            "[CV] END .............model__gamma=0.1, model__num_units=150; total time= 2.7min\n",
            "\u001b[1m572/572\u001b[0m \u001b[32m━━━━━━━━━━━━━━━━━━━━\u001b[0m\u001b[37m\u001b[0m \u001b[1m17s\u001b[0m 28ms/step - accuracy: 0.0543 - loss: 3.6989\n",
            "\u001b[1m286/286\u001b[0m \u001b[32m━━━━━━━━━━━━━━━━━━━━\u001b[0m\u001b[37m\u001b[0m \u001b[1m2s\u001b[0m 7ms/step\n",
            "[CV] END ..............model__gamma=0.5, model__num_units=50; total time=  24.9s\n",
            "\u001b[1m572/572\u001b[0m \u001b[32m━━━━━━━━━━━━━━━━━━━━\u001b[0m\u001b[37m\u001b[0m \u001b[1m16s\u001b[0m 27ms/step - accuracy: 0.0632 - loss: 3.7017\n",
            "\u001b[1m286/286\u001b[0m \u001b[32m━━━━━━━━━━━━━━━━━━━━\u001b[0m\u001b[37m\u001b[0m \u001b[1m3s\u001b[0m 12ms/step\n",
            "[CV] END ..............model__gamma=0.5, model__num_units=50; total time=  21.7s\n",
            "\u001b[1m572/572\u001b[0m \u001b[32m━━━━━━━━━━━━━━━━━━━━\u001b[0m\u001b[37m\u001b[0m \u001b[1m17s\u001b[0m 28ms/step - accuracy: 0.0533 - loss: 3.6980\n",
            "\u001b[1m286/286\u001b[0m \u001b[32m━━━━━━━━━━━━━━━━━━━━\u001b[0m\u001b[37m\u001b[0m \u001b[1m2s\u001b[0m 7ms/step\n",
            "[CV] END ..............model__gamma=0.5, model__num_units=50; total time=  21.3s\n",
            "\u001b[1m572/572\u001b[0m \u001b[32m━━━━━━━━━━━━━━━━━━━━\u001b[0m\u001b[37m\u001b[0m \u001b[1m50s\u001b[0m 87ms/step - accuracy: 0.0599 - loss: 3.6978\n",
            "\u001b[1m286/286\u001b[0m \u001b[32m━━━━━━━━━━━━━━━━━━━━\u001b[0m\u001b[37m\u001b[0m \u001b[1m8s\u001b[0m 28ms/step\n",
            "[CV] END .............model__gamma=0.5, model__num_units=100; total time= 1.0min\n",
            "\u001b[1m572/572\u001b[0m \u001b[32m━━━━━━━━━━━━━━━━━━━━\u001b[0m\u001b[37m\u001b[0m \u001b[1m53s\u001b[0m 90ms/step - accuracy: 0.0584 - loss: 3.6978\n",
            "\u001b[1m286/286\u001b[0m \u001b[32m━━━━━━━━━━━━━━━━━━━━\u001b[0m\u001b[37m\u001b[0m \u001b[1m4s\u001b[0m 14ms/step\n",
            "[CV] END .............model__gamma=0.5, model__num_units=100; total time= 1.5min\n",
            "\u001b[1m572/572\u001b[0m \u001b[32m━━━━━━━━━━━━━━━━━━━━\u001b[0m\u001b[37m\u001b[0m \u001b[1m44s\u001b[0m 75ms/step - accuracy: 0.0596 - loss: 3.6943\n",
            "\u001b[1m286/286\u001b[0m \u001b[32m━━━━━━━━━━━━━━━━━━━━\u001b[0m\u001b[37m\u001b[0m \u001b[1m7s\u001b[0m 25ms/step\n",
            "[CV] END .............model__gamma=0.5, model__num_units=100; total time=  55.5s\n",
            "\u001b[1m572/572\u001b[0m \u001b[32m━━━━━━━━━━━━━━━━━━━━\u001b[0m\u001b[37m\u001b[0m \u001b[1m83s\u001b[0m 143ms/step - accuracy: 0.0597 - loss: 3.6985\n",
            "\u001b[1m286/286\u001b[0m \u001b[32m━━━━━━━━━━━━━━━━━━━━\u001b[0m\u001b[37m\u001b[0m \u001b[1m14s\u001b[0m 50ms/step\n",
            "[CV] END .............model__gamma=0.5, model__num_units=150; total time= 1.6min\n",
            "\u001b[1m572/572\u001b[0m \u001b[32m━━━━━━━━━━━━━━━━━━━━\u001b[0m\u001b[37m\u001b[0m \u001b[1m86s\u001b[0m 148ms/step - accuracy: 0.0631 - loss: 3.6944\n",
            "\u001b[1m286/286\u001b[0m \u001b[32m━━━━━━━━━━━━━━━━━━━━\u001b[0m\u001b[37m\u001b[0m \u001b[1m14s\u001b[0m 50ms/step\n",
            "[CV] END .............model__gamma=0.5, model__num_units=150; total time= 2.6min\n",
            "\u001b[1m572/572\u001b[0m \u001b[32m━━━━━━━━━━━━━━━━━━━━\u001b[0m\u001b[37m\u001b[0m \u001b[1m86s\u001b[0m 149ms/step - accuracy: 0.0543 - loss: 3.6930\n",
            "\u001b[1m286/286\u001b[0m \u001b[32m━━━━━━━━━━━━━━━━━━━━\u001b[0m\u001b[37m\u001b[0m \u001b[1m14s\u001b[0m 50ms/step\n",
            "[CV] END .............model__gamma=0.5, model__num_units=150; total time= 1.7min\n",
            "\u001b[1m572/572\u001b[0m \u001b[32m━━━━━━━━━━━━━━━━━━━━\u001b[0m\u001b[37m\u001b[0m \u001b[1m19s\u001b[0m 31ms/step - accuracy: 0.0479 - loss: 3.7126\n",
            "\u001b[1m286/286\u001b[0m \u001b[32m━━━━━━━━━━━━━━━━━━━━\u001b[0m\u001b[37m\u001b[0m \u001b[1m2s\u001b[0m 7ms/step\n",
            "[CV] END ..............model__gamma=1.0, model__num_units=50; total time=  22.4s\n",
            "\u001b[1m572/572\u001b[0m \u001b[32m━━━━━━━━━━━━━━━━━━━━\u001b[0m\u001b[37m\u001b[0m \u001b[1m19s\u001b[0m 32ms/step - accuracy: 0.0504 - loss: 3.7130\n",
            "\u001b[1m286/286\u001b[0m \u001b[32m━━━━━━━━━━━━━━━━━━━━\u001b[0m\u001b[37m\u001b[0m \u001b[1m2s\u001b[0m 7ms/step\n",
            "[CV] END ..............model__gamma=1.0, model__num_units=50; total time=  23.0s\n",
            "\u001b[1m572/572\u001b[0m \u001b[32m━━━━━━━━━━━━━━━━━━━━\u001b[0m\u001b[37m\u001b[0m \u001b[1m19s\u001b[0m 32ms/step - accuracy: 0.0558 - loss: 3.7129\n",
            "\u001b[1m286/286\u001b[0m \u001b[32m━━━━━━━━━━━━━━━━━━━━\u001b[0m\u001b[37m\u001b[0m \u001b[1m3s\u001b[0m 10ms/step\n",
            "[CV] END ..............model__gamma=1.0, model__num_units=50; total time=  24.1s\n",
            "\u001b[1m572/572\u001b[0m \u001b[32m━━━━━━━━━━━━━━━━━━━━\u001b[0m\u001b[37m\u001b[0m \u001b[1m65s\u001b[0m 112ms/step - accuracy: 0.0503 - loss: 3.7122\n",
            "\u001b[1m286/286\u001b[0m \u001b[32m━━━━━━━━━━━━━━━━━━━━\u001b[0m\u001b[37m\u001b[0m \u001b[1m7s\u001b[0m 24ms/step\n",
            "[CV] END .............model__gamma=1.0, model__num_units=100; total time= 1.5min\n",
            "\u001b[1m572/572\u001b[0m \u001b[32m━━━━━━━━━━━━━━━━━━━━\u001b[0m\u001b[37m\u001b[0m \u001b[1m60s\u001b[0m 103ms/step - accuracy: 0.0559 - loss: 3.7131\n",
            "\u001b[1m286/286\u001b[0m \u001b[32m━━━━━━━━━━━━━━━━━━━━\u001b[0m\u001b[37m\u001b[0m \u001b[1m8s\u001b[0m 28ms/step\n",
            "[CV] END .............model__gamma=1.0, model__num_units=100; total time= 1.5min\n",
            "\u001b[1m572/572\u001b[0m \u001b[32m━━━━━━━━━━━━━━━━━━━━\u001b[0m\u001b[37m\u001b[0m \u001b[1m58s\u001b[0m 101ms/step - accuracy: 0.0578 - loss: 3.7123\n",
            "\u001b[1m286/286\u001b[0m \u001b[32m━━━━━━━━━━━━━━━━━━━━\u001b[0m\u001b[37m\u001b[0m \u001b[1m10s\u001b[0m 35ms/step\n",
            "[CV] END .............model__gamma=1.0, model__num_units=100; total time= 1.6min\n",
            "\u001b[1m572/572\u001b[0m \u001b[32m━━━━━━━━━━━━━━━━━━━━\u001b[0m\u001b[37m\u001b[0m \u001b[1m84s\u001b[0m 146ms/step - accuracy: 0.0538 - loss: 3.7129\n",
            "\u001b[1m286/286\u001b[0m \u001b[32m━━━━━━━━━━━━━━━━━━━━\u001b[0m\u001b[37m\u001b[0m \u001b[1m14s\u001b[0m 49ms/step\n",
            "[CV] END .............model__gamma=1.0, model__num_units=150; total time= 2.7min\n",
            "\u001b[1m572/572\u001b[0m \u001b[32m━━━━━━━━━━━━━━━━━━━━\u001b[0m\u001b[37m\u001b[0m \u001b[1m86s\u001b[0m 148ms/step - accuracy: 0.0491 - loss: 3.7135\n",
            "\u001b[1m286/286\u001b[0m \u001b[32m━━━━━━━━━━━━━━━━━━━━\u001b[0m\u001b[37m\u001b[0m \u001b[1m14s\u001b[0m 49ms/step\n",
            "[CV] END .............model__gamma=1.0, model__num_units=150; total time= 2.7min\n",
            "\u001b[1m572/572\u001b[0m \u001b[32m━━━━━━━━━━━━━━━━━━━━\u001b[0m\u001b[37m\u001b[0m \u001b[1m86s\u001b[0m 148ms/step - accuracy: 0.0522 - loss: 3.7126\n",
            "\u001b[1m286/286\u001b[0m \u001b[32m━━━━━━━━━━━━━━━━━━━━\u001b[0m\u001b[37m\u001b[0m \u001b[1m14s\u001b[0m 50ms/step\n",
            "[CV] END .............model__gamma=1.0, model__num_units=150; total time= 2.7min\n",
            "\u001b[1m858/858\u001b[0m \u001b[32m━━━━━━━━━━━━━━━━━━━━\u001b[0m\u001b[37m\u001b[0m \u001b[1m132s\u001b[0m 152ms/step - accuracy: 0.0774 - loss: 3.6261\n",
            "Best parameters found by GridSearchCV: {'model__gamma': 0.1, 'model__num_units': 150}\n",
            "Best score found by GridSearchCV: 0.09363829536780739\n"
          ]
        }
      ],
      "source": [
        "# Parameter grid for GridSearchCV\n",
        "param_grid = {\n",
        "    'model__num_units': [50, 100, 150],  # Updated: model__num_units\n",
        "    'model__gamma': [0.1, 0.5, 1.0],  # Updated: model__gamma\n",
        "}\n",
        "\n",
        "# Create GridSearchCV object\n",
        "grid_search = GridSearchCV(\n",
        "    estimator=KerasClassifier(model=create_model), # Updated line\n",
        "    param_grid=param_grid,\n",
        "    cv=3,  # Number of cross-validation folds\n",
        "    verbose=2,\n",
        ")\n",
        "\n",
        "# Fit the model\n",
        "grid_search.fit(X_train, y_train)\n",
        "\n",
        "# Get the best parameters and score\n",
        "print(\"Best parameters found by GridSearchCV:\", grid_search.best_params_)\n",
        "print(\"Best score found by GridSearchCV:\", grid_search.best_score_)"
      ]
    }
  ],
  "metadata": {
    "accelerator": "GPU",
    "colab": {
      "gpuType": "T4",
      "provenance": [],
      "mount_file_id": "1UwvCdnBmH5Ai4JA4Jny62iykb_Q8Fqcj",
      "authorship_tag": "ABX9TyNOG/ZIYIMrzEgIXrRXLTv7",
      "include_colab_link": true
    },
    "kernelspec": {
      "display_name": "Python 3",
      "name": "python3"
    },
    "language_info": {
      "name": "python"
    }
  },
  "nbformat": 4,
  "nbformat_minor": 0
}
